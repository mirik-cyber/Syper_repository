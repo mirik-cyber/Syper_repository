{
  "nbformat": 4,
  "nbformat_minor": 0,
  "metadata": {
    "colab": {
      "provenance": [],
      "authorship_tag": "ABX9TyNPKpIm0hQRjV9oZvaNCLG9",
      "include_colab_link": true
    },
    "kernelspec": {
      "name": "python3",
      "display_name": "Python 3"
    },
    "language_info": {
      "name": "python"
    }
  },
  "cells": [
    {
      "cell_type": "markdown",
      "metadata": {
        "id": "view-in-github",
        "colab_type": "text"
      },
      "source": [
        "<a href=\"https://colab.research.google.com/github/qwell57/Syper_repository/blob/main/LB_1_PRACT.ipynb\" target=\"_parent\"><img src=\"https://colab.research.google.com/assets/colab-badge.svg\" alt=\"Open In Colab\"/></a>"
      ]
    },
    {
      "cell_type": "markdown",
      "source": [
        "## Пример использования Markdown\n",
        "\n",
        "Спсок дел:\n",
        "  1. поесть.\n",
        "  2. пресс качат.\n",
        "  3. поспать.\n",
        "  4. лаба по практике.\n",
        "\n",
        "![ГИГАЧАД](https://avatars.mds.yandex.net/i?id=af140eea345b319232b83c43c13749848505094b-9069268-images-thumbs&n=13)\n",
        "\n",
        "|сколько мне лет|кто делал лабу|важно|\n",
        "|:-:|:-:|:-:|\n",
        "|0|Якунин Павел|42|\n",
        "|дед|Ященко Некита|78743|\n",
        "|7|Приходько Мирослав|=|\n",
        "\n",
        "[СУПЕР ВАЖНО](https://www.youtube.com/watch?v=dQw4w9WgXcQ)"
      ],
      "metadata": {
        "id": "gw8Bl0pvCfYR"
      }
    },
    {
      "cell_type": "markdown",
      "source": [],
      "metadata": {
        "id": "m2smXUHWCvBk"
      }
    }
  ]
}